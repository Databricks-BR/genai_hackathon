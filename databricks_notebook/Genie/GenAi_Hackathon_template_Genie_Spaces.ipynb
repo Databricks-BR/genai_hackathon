{
 "cells": [
  {
   "cell_type": "markdown",
   "metadata": {
    "application/vnd.databricks.v1+cell": {
     "cellMetadata": {},
     "inputWidgets": {},
     "nuid": "19aa9e2d-af51-4011-be5d-a8b532e3d2f9",
     "showTitle": false,
     "title": ""
    }
   },
   "source": [
    "<img src=\"https://raw.githubusercontent.com/Databricks-BR/genai_hackathon/main/images/head_genai_hackathon.gif\" width=\"700px\">"
   ]
  },
  {
   "cell_type": "markdown",
   "metadata": {
    "application/vnd.databricks.v1+cell": {
     "cellMetadata": {},
     "inputWidgets": {},
     "nuid": "00277f45-5ea3-4ce6-9f14-aaf15e343e89",
     "showTitle": false,
     "title": ""
    }
   },
   "source": [
    "<img src=\"https://raw.githubusercontent.com/Databricks-BR/genai_hackathon/main/images/head_titulo.png\" width=\"900px\">"
   ]
  },
  {
   "cell_type": "markdown",
   "metadata": {
    "application/vnd.databricks.v1+cell": {
     "cellMetadata": {},
     "inputWidgets": {},
     "nuid": "5002816f-831d-42b0-b802-96c874189bd5",
     "showTitle": false,
     "title": ""
    }
   },
   "source": [
    "## Título:  .......   < nome da sua Solução >\n",
    "\n",
    "| ITEM | DESCRIÇÃO |\n",
    "| -- | -- |\n",
    "| Indústria: | Saúde / Financeira / Varejo / ... |\n",
    "| Departamento: | Comercial / Marketing / Jurídico / Contratos / Clínica Médica / ... |\n",
    "| Tipo de Solução: | Assistente GenAI / Extrator de Termos / Gerador de Conteúdo / Sumarizador / Classificação de Texto |"
   ]
  },
  {
   "cell_type": "markdown",
   "metadata": {
    "application/vnd.databricks.v1+cell": {
     "cellMetadata": {},
     "inputWidgets": {},
     "nuid": "b38ae60c-5b77-4095-a2b4-7fc93027ad56",
     "showTitle": false,
     "title": ""
    }
   },
   "source": [
    "%md\n",
    "<img src=\"https://raw.githubusercontent.com/Databricks-BR/genai_hackathon/main/images/head_grupo.png\" width=\"900px\">"
   ]
  },
  {
   "cell_type": "markdown",
   "metadata": {
    "application/vnd.databricks.v1+cell": {
     "cellMetadata": {},
     "inputWidgets": {},
     "nuid": "39d4e590-16af-4fa4-ad54-1f4b944f86b6",
     "showTitle": false,
     "title": ""
    }
   },
   "source": [
    "\n",
    "### GRUPO 01 - <Nome do Grupo>\n",
    "\n",
    "| # | Nome do Integrante | Empresa | e-mail |\n",
    "| -- | -- | -- | -- |\n",
    "| 1 | nome | empresa | e-mail |\n",
    "| 2 | nome | empresa | e-mail |\n",
    "| 3 | nome | empresa | e-mail |\n",
    "| 4 | nome | empresa | e-mail |\n",
    "| 5 | nome | empresa | e-mail | "
   ]
  },
  {
   "cell_type": "markdown",
   "metadata": {
    "application/vnd.databricks.v1+cell": {
     "cellMetadata": {},
     "inputWidgets": {},
     "nuid": "786cf143-0d44-4a56-a5b3-c851acfd23ce",
     "showTitle": false,
     "title": ""
    }
   },
   "source": [
    "<img src=\"https://raw.githubusercontent.com/Databricks-BR/genai_hackathon/main/images/head_contexto.png\" width=\"900px\">"
   ]
  },
  {
   "cell_type": "markdown",
   "metadata": {
    "application/vnd.databricks.v1+cell": {
     "cellMetadata": {},
     "inputWidgets": {},
     "nuid": "755b2368-3559-4a40-ba36-f9c6eac4727a",
     "showTitle": false,
     "title": ""
    }
   },
   "source": [
    "#### Cenário Atual\n",
    "\n",
    "descreva ...\n",
    "</br></br>\n",
    "\n",
    "#### Dores / Necessidades do Negócio\n",
    "\n",
    "descreva ...\n",
    "</br></br>\n"
   ]
  },
  {
   "cell_type": "markdown",
   "metadata": {
    "application/vnd.databricks.v1+cell": {
     "cellMetadata": {},
     "inputWidgets": {},
     "nuid": "13c082ed-98aa-43bf-8a36-adfbfe88ffec",
     "showTitle": false,
     "title": ""
    }
   },
   "source": [
    "<img src=\"https://raw.githubusercontent.com/Databricks-BR/genai_hackathon/main/images/head_proposito.png\" width=\"900px\">"
   ]
  },
  {
   "cell_type": "markdown",
   "metadata": {
    "application/vnd.databricks.v1+cell": {
     "cellMetadata": {},
     "inputWidgets": {},
     "nuid": "ce3b1caf-e435-492c-8b2a-828573210cb4",
     "showTitle": false,
     "title": ""
    }
   },
   "source": [
    "#### Objetivo da Solução Proposta\n",
    "\n",
    "Descreva como pretente resolver o problema....\n",
    "\n",
    "</br></br>\n",
    "\n",
    "#### Benefícios\n",
    "\n",
    "Descreva que benéficios, que melhorias, impactos... a solução trará pra empresa e/ou sociedade ...\n",
    "</br></br>\n"
   ]
  },
  {
   "cell_type": "markdown",
   "metadata": {
    "application/vnd.databricks.v1+cell": {
     "cellMetadata": {},
     "inputWidgets": {},
     "nuid": "5c71e6c5-9c03-46a1-a63a-45a38b903657",
     "showTitle": false,
     "title": ""
    }
   },
   "source": [
    "<img src=\"https://raw.githubusercontent.com/Databricks-BR/genai_hackathon/main/images/head_arquitetura.png\" width=\"900px\">\n"
   ]
  },
  {
   "cell_type": "markdown",
   "metadata": {
    "application/vnd.databricks.v1+cell": {
     "cellMetadata": {},
     "inputWidgets": {},
     "nuid": "a71a9380-19f8-46d6-8b82-b14a11c41394",
     "showTitle": false,
     "title": ""
    }
   },
   "source": [
    "### Arquitetura\n",
    "\n",
    "* Provedor Cloud:   Azure / AWS / GCP\n",
    "* Cluster / DB Runtime:   ____\n",
    "* Bibliotecas utilizadas: _____\n",
    "\n",
    "### Técnicas Utilizadas\n",
    "\n",
    "* Genie Spaces (Data Room)\n",
    "\n"
   ]
  },
  {
   "cell_type": "markdown",
   "metadata": {
    "application/vnd.databricks.v1+cell": {
     "cellMetadata": {},
     "inputWidgets": {},
     "nuid": "57d22ce3-1e3f-4e23-98fe-3b1deeeeccd3",
     "showTitle": false,
     "title": ""
    }
   },
   "source": [
    "<img src=\"https://raw.githubusercontent.com/Databricks-BR/genai_hackathon/main/images/head_referencias.png\" width=\"900px\">\n"
   ]
  },
  {
   "cell_type": "markdown",
   "metadata": {
    "application/vnd.databricks.v1+cell": {
     "cellMetadata": {},
     "inputWidgets": {},
     "nuid": "50c6d96d-a641-40a8-8fb5-11031e512551",
     "showTitle": false,
     "title": ""
    }
   },
   "source": [
    "#### Referências:\n",
    "* [Introdução ao DBRX LLM foundation model Databricks](https://www.databricks.com/blog/introducing-dbrx-new-state-art-open-llm)\n",
    "* [Documentação do Gen AI Databricks](https://docs.databricks.com/en/generative-ai/generative-ai.html)\n",
    "* [Foundation LLM Models APIs](https://docs.databricks.com/en/machine-learning/foundation-models/index.html#pay-per-token-foundation-model-apis)\n"
   ]
  },
  {
   "cell_type": "markdown",
   "metadata": {
    "application/vnd.databricks.v1+cell": {
     "cellMetadata": {},
     "inputWidgets": {},
     "nuid": "e741e5b3-4f85-458f-b5e1-9e81afa7d53c",
     "showTitle": false,
     "title": ""
    }
   },
   "source": [
    "<img src=\"https://raw.githubusercontent.com/Databricks-BR/genai_hackathon/main/images/Genie_head.jpeg\" width=\"900px\">\n",
    "\n",
    "# Criando a base para o Hackathon\n",
    "Antes de criarmos nossas tabelas, precisamos criar um catálogo, um schema e um volume (que facilitará nosso processo de ingestão) para receber os arquivos da origem. \n",
    "* Catálogo:  Os objetos no Databricks (tabelas, views, modelos, etc), possuem o namespace composto por 3 partes. o catálogo é a primeira delas;\n",
    "* Schema: Já o schema é o segundo nível deste namespace. Tanto o catálogo quanto o schema, servem para organização lógica simplificando a governança;\n",
    "* Volume: O volume é um diretório onde você pode fazer upload de arquivos. O volume reside dentro de um schema, deixa o ambiente mais governado e facilita o desenvolvimento.\n",
    "\n",
    "\n"
   ]
  },
  {
   "cell_type": "markdown",
   "metadata": {
    "application/vnd.databricks.v1+cell": {
     "cellMetadata": {},
     "inputWidgets": {},
     "nuid": "7eacaaa6-52a4-4f17-a262-eb713f7058cc",
     "showTitle": false,
     "title": ""
    }
   },
   "source": [
    "<img style=\"float: left; margin-right: 20px\" width=\"100px\" src=\"https://raw.githubusercontent.com/Databricks-BR/genai_hackathon/main/images/Warning.png\">\n",
    "\n",
    "###Se você já possui as tabelas que pretende usar, avance para a sessão \"Tratamento de dados\"."
   ]
  },
  {
   "cell_type": "markdown",
   "metadata": {
    "application/vnd.databricks.v1+cell": {
     "cellMetadata": {},
     "inputWidgets": {},
     "nuid": "eb608214-f519-4cf2-b7d9-0b2fb1ea5bba",
     "showTitle": false,
     "title": ""
    }
   },
   "source": [
    "\n",
    "### Criando o catálogo, schema e volume\n",
    "\n",
    "Tudo o que você precisará fazer, é preencher o widget no canto superior esquerdo chamado de **\"Prefixo\"**. O código abaixo se encarregará de fazer a criação de todo o necessário"
   ]
  },
  {
   "cell_type": "code",
   "execution_count": 0,
   "metadata": {
    "application/vnd.databricks.v1+cell": {
     "cellMetadata": {
      "byteLimit": 2048000,
      "rowLimit": 10000
     },
     "inputWidgets": {},
     "nuid": "f3dbc41a-2085-47d8-aa2d-cbf1cad12c16",
     "showTitle": false,
     "title": ""
    }
   },
   "outputs": [
    {
     "output_type": "stream",
     "name": "stdout",
     "output_type": "stream",
     "text": [
      "Executando: CREATE CATALOG IF NOT EXISTS jsf_hackaton_catalog\nExecutando: CREATE SCHEMA IF NOT EXISTS jsf_hackaton_catalog.jsf_hackaton\nExecutando: CREATE VOLUME IF NOT EXISTS jsf_hackaton_catalog.jsf_hackaton.genie_vol\n"
     ]
    }
   ],
   "source": [
    "\n",
    "prefixo = dbutils.widgets.get('Prefixo')  # USE O WIDGET NO CANTO SUPERIOR ESQUERDO PARA PREENCHER O PREFIXO DO SEU CATALOGO. SUGESTAO: INICIAIS DO SEU NOME + HACKATHON EXEMPLO: jsf_hackathon\n",
    "catalog = prefix+\"_catalog\"\n",
    "schema = prefix\n",
    "volume = \"genie_vol\"\n",
    "\n",
    "commands = [f\"CREATE CATALOG IF NOT EXISTS {catalog}\"\n",
    "            ,f\"CREATE SCHEMA IF NOT EXISTS {catalog}.{prefixo}\"\n",
    "            ,f\"CREATE VOLUME IF NOT EXISTS {catalog}.{schema}.{volume}\"\n",
    "            ]\n",
    "for sql_command in commands:\n",
    "  print (f\"Executando: {sql_command}\")\n",
    "  spark.sql(sql_command)\n"
   ]
  },
  {
   "cell_type": "markdown",
   "metadata": {
    "application/vnd.databricks.v1+cell": {
     "cellMetadata": {},
     "inputWidgets": {},
     "nuid": "701e704b-4d96-4336-8814-6e1f2f8a26ff",
     "showTitle": false,
     "title": ""
    }
   },
   "source": [
    "## Fazendo o upload dos arquivos\n",
    "Siga os passos na célula abaixo, para realizar o upload dos seus dados para o volume que acabamos de criar"
   ]
  },
  {
   "cell_type": "markdown",
   "metadata": {
    "application/vnd.databricks.v1+cell": {
     "cellMetadata": {},
     "inputWidgets": {},
     "nuid": "f36b835a-b00b-4770-a293-dd4b80cce803",
     "showTitle": false,
     "title": ""
    }
   },
   "source": [
    "1 - > No menu esquerdo, com o botão direito, clique em **\"Catálogo\"** e selecione **\"Abrir em uma nova aba\"**. \n",
    "\n",
    "<img style=\"float: left; margin-right: 20px\" width=\"200px\" src=\"https://raw.githubusercontent.com/Databricks-BR/genai_hackathon/main/images/Genie_catalog.jpeg\">\n",
    "\n",
    "2 - > Na nova aba, pesquise por **prefixo**_catalog. Onde **prefixo** é o valor que você definiu no passo anterior. Navegue até o volume chamado **genie_vol**, seguindo os passos da figura abaixo\n",
    "\n",
    "<img style=\"float: left; margin-right: 20px\" width=\"300px\" src=\"https://raw.githubusercontent.com/Databricks-BR/genai_hackathon/main/images/Genie_volume.jpeg\">\n",
    "\n",
    "3 - > No canto superior direito selecione **Upload to this volume**\n",
    "\n",
    "<img style=\"float: left; margin-right: 20px\" width=\"300px\" src=\"https://raw.githubusercontent.com/Databricks-BR/genai_hackathon/main/images/Genie_upload.jpeg\">\n",
    "\n",
    "4 - > No canto superior direito selecione **Upload to this volume**\n",
    "\n",
    "<img style=\"float: left; margin-right: 20px\" width=\"300px\" src=\"https://raw.githubusercontent.com/Databricks-BR/genai_hackathon/main/images/Genie_chooseFiles.jpeg\">\n",
    "\n",
    "5 - > Selecione ou arraste seus arquivos e em seguida clique em **upload**\n",
    "\n",
    "<img style=\"float: left; margin-right: 20px\" width=\"400px\" src=\"https://raw.githubusercontent.com/Databricks-BR/genai_hackathon/main/images/Genie_finishUpload.jpeg\">\n"
   ]
  },
  {
   "cell_type": "markdown",
   "metadata": {
    "application/vnd.databricks.v1+cell": {
     "cellMetadata": {},
     "inputWidgets": {},
     "nuid": "cd758d92-0faf-40c8-9466-a1d4edfc9a50",
     "showTitle": false,
     "title": ""
    }
   },
   "source": [
    "#Criando tabelas\n",
    "Agora que já temos os arquivos necessários no volume, podemos rodar o código abaixo para criar as tabelas.\n",
    "\n",
    "</br>\n",
    "\n",
    "<img style=\"float: left; margin-right: 20px\" width=\"100px\" src=\"https://raw.githubusercontent.com/Databricks-BR/genai_hackathon/main/images/Warning.png\">\n",
    "\n",
    "O código abaixo é um **acelerador** para criação de tabelas a partir de um **.json**, **.csv** ou **.parquet**. Caso seu dataset tenha algum requisito específico, **altere** o código de acordo com sua necessidade."
   ]
  },
  {
   "cell_type": "code",
   "execution_count": 0,
   "metadata": {
    "application/vnd.databricks.v1+cell": {
     "cellMetadata": {
      "byteLimit": 2048000,
      "rowLimit": 10000
     },
     "inputWidgets": {},
     "nuid": "b73172ff-7168-4759-a2b1-3bcb55be3ae8",
     "showTitle": false,
     "title": ""
    }
   },
   "outputs": [],
   "source": [
    "import os\n",
    "from pyspark.sql import SparkSession\n",
    "\n",
    "# Variável do path dos arquivos \n",
    "diretorio = f\"/Volumes/{catalog}/{schema}/{volume}\"\n",
    "\n",
    "# Nesta etapa vamos ler todos os arquivos do diretório e criar uma tabela para cada arquivo\n",
    "for nome_arquivo in os.listdir(diretorio):\n",
    "        tipo_arquivo=nome_arquivo.split('.')[1]\n",
    "        \n",
    "        if tipo_arquivo ==\"csv\" :\n",
    "          df = spark.read.format(\"csv\").option(\"header\", \"true\").option(\"inferSchema\", \"true\").load(os.path.join(diretorio, nome_arquivo))\n",
    "        if tipo_arquivo==\"json\":\n",
    "          df = spark.read.format(\"json\").option(\"inferSchema\", \"true\").load(os.path.join(diretorio, nome_arquivo))\n",
    "        if tipo_arquivo==\"parquet\":\n",
    "          df = spark.read.format(\"parquet\").option(\"inferSchema\", \"true\").load(os.path.join(diretorio, nome_arquivo)) \n",
    "    \n",
    "        # Seguindo a arquitetura medalhão, vamos remover a extensão do arquivo e adicionar o sulfixo _bronze ao nome das tabelas\n",
    "        table_name = nome_arquivo.split('.')[0]+\"_bronze\"\n",
    "        # Criando  tabela\n",
    "        df.write.format(\"delta\").mode(\"overwrite\").saveAsTable(f\"{catalog}.{schema}.{table_name}\")"
   ]
  },
  {
   "cell_type": "markdown",
   "metadata": {
    "application/vnd.databricks.v1+cell": {
     "cellMetadata": {},
     "inputWidgets": {},
     "nuid": "dbefc29e-5447-4605-b893-7349238ead78",
     "showTitle": false,
     "title": ""
    }
   },
   "source": [
    "## Tratamento de Dados\n",
    "\n",
    "<img style=\"float: left; margin-right: 20px\" width=\"400px\" src=\"https://raw.githubusercontent.com/Databricks-BR/genai_hackathon/main/images/medallion.jpeg\">\n",
    "\n",
    "\n",
    "* Se necessário, utilize a célula abaixo para transformar seus dados:\n",
    "   * Joins\n",
    "   * Data cleaning\n",
    "   * Agregações\n"
   ]
  },
  {
   "cell_type": "code",
   "execution_count": 0,
   "metadata": {
    "application/vnd.databricks.v1+cell": {
     "cellMetadata": {},
     "inputWidgets": {},
     "nuid": "32920178-6901-4464-baad-0bf700ddeea6",
     "showTitle": false,
     "title": ""
    }
   },
   "outputs": [],
   "source": [
    "#TO DO: Transforme seus dados nesta célula"
   ]
  },
  {
   "cell_type": "markdown",
   "metadata": {
    "application/vnd.databricks.v1+cell": {
     "cellMetadata": {},
     "inputWidgets": {},
     "nuid": "9e112a2d-794f-46d3-a572-3270a37fece6",
     "showTitle": false,
     "title": ""
    }
   },
   "source": [
    "# Criando um Genie Spaces\n",
    "\n",
    "Agora que nossa base de dados está pronta, chegou o momento de usarmos a IA para viabilizar a consulta por linguagem natual"
   ]
  },
  {
   "cell_type": "markdown",
   "metadata": {
    "application/vnd.databricks.v1+cell": {
     "cellMetadata": {},
     "inputWidgets": {},
     "nuid": "7d4717fe-68ac-44e3-b460-5db8c8e272f9",
     "showTitle": false,
     "title": ""
    }
   },
   "source": [
    "### 1° Passo: No menu esquerdo, com o botão direito, clique em Genie Spaces e selecione \"abrir em uma nova aba\"\n",
    "</br>\n",
    "\n",
    "<img style=\"float: left; margin-right: 20px\" width=\"150px\" src=\"https://raw.githubusercontent.com/Databricks-BR/genai_hackathon/main/images/Genie_enabled.png\">\n"
   ]
  },
  {
   "cell_type": "markdown",
   "metadata": {
    "application/vnd.databricks.v1+cell": {
     "cellMetadata": {},
     "inputWidgets": {},
     "nuid": "968ff867-19b3-492c-bb19-c787ba3250d8",
     "showTitle": false,
     "title": ""
    }
   },
   "source": [
    "### 2° Passo: Na nova aba que foi aberta, clique em \"New space\"\n",
    "</br>\n",
    "\n",
    "\n",
    "<img style=\"float: left; margin-right: 20px\" width=\"300px\" src=\"https://raw.githubusercontent.com/Databricks-BR/genai_hackathon/main/images/Genie_newSpace.jpeg\">"
   ]
  },
  {
   "cell_type": "markdown",
   "metadata": {
    "application/vnd.databricks.v1+cell": {
     "cellMetadata": {},
     "inputWidgets": {},
     "nuid": "8e67272e-7403-461d-a876-3780998e524e",
     "showTitle": false,
     "title": ""
    }
   },
   "source": [
    "### 3° Passo: Preencha as informações solicitadas e selecione as tabelas que farão parte deste Space e clique em save\n",
    "\n",
    "</br>\n",
    "\n",
    "<img style=\"float: left; margin-right: 20px\" width=\"700px\" src=\"https://raw.githubusercontent.com/Databricks-BR/genai_hackathon/main/images/Genie_settingUp.jpeg\">"
   ]
  }
 ],
 "metadata": {
  "application/vnd.databricks.v1+notebook": {
   "dashboards": [],
   "environmentMetadata": null,
   "language": "python",
   "notebookMetadata": {
    "pythonIndentUnit": 2
   },
   "notebookName": "GenAi_Hackathon_template_Genie_Spaces",
   "widgets": {
    "Prefixo": {
     "currentValue": "jsf_hackathon",
     "nuid": "f6589859-3dc3-402d-ae29-cd728fcfc3a4",
     "typedWidgetInfo": null,
     "widgetInfo": {
      "widgetType": "text",
      "defaultValue": "",
      "label": "",
      "name": "Prefixo",
      "options": {
       "widgetType": "text",
       "autoCreated": false,
       "validationRegex": null
      }
     }
    }
   }
  }
 },
 "nbformat": 4,
 "nbformat_minor": 0
}
