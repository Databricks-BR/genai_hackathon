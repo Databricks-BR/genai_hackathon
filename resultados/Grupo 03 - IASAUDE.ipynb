{
 "cells": [
  {
   "cell_type": "markdown",
   "metadata": {
    "application/vnd.databricks.v1+cell": {
     "cellMetadata": {},
     "inputWidgets": {},
     "nuid": "19aa9e2d-af51-4011-be5d-a8b532e3d2f9",
     "showTitle": false,
     "title": ""
    }
   },
   "source": [
    "<img src=\"https://raw.githubusercontent.com/Databricks-BR/genai_hackathon/main/images/head_genai_hackathon.gif\" width=\"700px\">"
   ]
  },
  {
   "cell_type": "markdown",
   "metadata": {
    "application/vnd.databricks.v1+cell": {
     "cellMetadata": {},
     "inputWidgets": {},
     "nuid": "00277f45-5ea3-4ce6-9f14-aaf15e343e89",
     "showTitle": false,
     "title": ""
    }
   },
   "source": [
    "<img src=\"https://raw.githubusercontent.com/Databricks-BR/genai_hackathon/main/images/head_titulo.png\" width=\"900px\">"
   ]
  },
  {
   "cell_type": "markdown",
   "metadata": {
    "application/vnd.databricks.v1+cell": {
     "cellMetadata": {},
     "inputWidgets": {},
     "nuid": "5002816f-831d-42b0-b802-96c874189bd5",
     "showTitle": false,
     "title": ""
    }
   },
   "source": [
    "## Detectando o Invisível: IA contra o Cancêr na Identificação de Nódulos Mamários\n",
    "\n",
    "<img src=\"https://raw.githubusercontent.com/RP-viniciusruscinc/hackaton2024/main/llama.png\" alt=\"image (3)\" width=\"400\"/>\n",
    "\n",
    "</br></br>\n",
    "\n",
    "| ITEM | DESCRIÇÃO |\n",
    "| -- | -- |\n",
    "| Indústria: | Saúde |\n",
    "| Departamento: |  Clínica Médica  |\n",
    "| Tipo de Solução: | Assistente GenAI |\n"
   ]
  },
  {
   "cell_type": "markdown",
   "metadata": {
    "application/vnd.databricks.v1+cell": {
     "cellMetadata": {},
     "inputWidgets": {},
     "nuid": "b38ae60c-5b77-4095-a2b4-7fc93027ad56",
     "showTitle": false,
     "title": ""
    }
   },
   "source": [
    "<img src=\"https://raw.githubusercontent.com/Databricks-BR/genai_hackathon/main/images/head_grupo.png\" width=\"900px\">"
   ]
  },
  {
   "cell_type": "markdown",
   "metadata": {
    "application/vnd.databricks.v1+cell": {
     "cellMetadata": {},
     "inputWidgets": {},
     "nuid": "39d4e590-16af-4fa4-ad54-1f4b944f86b6",
     "showTitle": false,
     "title": ""
    }
   },
   "source": [
    "\n",
    "### GRUPO 03 - IA SAUDE\n",
    "\n",
    "| # | Nome do Integrante | Empresa | \n",
    "| -- | -- | -- |\n",
    "| 1 | Allan Aspert | Biolab |\n",
    "| 2 | Thaynara Araujo | Biolab | \n",
    "| 3 | Victor Cruz | Biolab |\n",
    "| 4 | Rener Lima | Qualicorp |\n",
    "| 5 | Mateus Mendes | RecargaPay | \n",
    "| 6 | Vinicius Ruscinc | RecargaPay | "
   ]
  },
  {
   "cell_type": "markdown",
   "metadata": {
    "application/vnd.databricks.v1+cell": {
     "cellMetadata": {},
     "inputWidgets": {},
     "nuid": "786cf143-0d44-4a56-a5b3-c851acfd23ce",
     "showTitle": false,
     "title": ""
    }
   },
   "source": [
    "<img src=\"https://raw.githubusercontent.com/Databricks-BR/genai_hackathon/main/images/head_contexto.png\" width=\"900px\">"
   ]
  },
  {
   "cell_type": "markdown",
   "metadata": {
    "application/vnd.databricks.v1+cell": {
     "cellMetadata": {},
     "inputWidgets": {},
     "nuid": "755b2368-3559-4a40-ba36-f9c6eac4727a",
     "showTitle": false,
     "title": ""
    }
   },
   "source": [
    "#### Cenário Atual\n",
    "\n",
    "O Câncer é um termo genérico que abrange mais de 100 diferentes tipos de doenças malignas que têm em comum o crescimento desordenado de células, que podem invadir tecidos adjacentes ou órgãos a distância.\n",
    "\n",
    "É uma das principais causas de morte nas Américas. Em 2008, causou 1,2 milhão de mortes, 45% das quais ocorreram na América Latina e no Caribe. Prevê-se que a mortalidade por câncer nas Américas aumente para 2,1 milhões até 2030. Cerca de um terço de todos os casos de câncer poderiam ser evitados trabalhando os principais fatores de risco, como tabagismo, abuso de álcool, dieta inadequada e inatividade física.\n",
    "\n",
    "Os programas de rastreamento e vacinação representam intervenções eficazes para reduzir a carga de certos tipos de câncer. Muitos cânceres têm uma grande chance de serem curados se detectados precocemente e tratados adequadamente.\n",
    "</br></br>\n",
    "##### Os tipos de câncer mais comuns são:\n",
    "* Pulmão (2,09 milhões de casos)</br></br>\n",
    "* **Mama** (2,09 milhões de casos)</br></br>\n",
    "* Colorretal (1,8 milhão de casos)</br></br>\n",
    "* Próstata (1,28 milhão de casos)</br></br>\n",
    "* Câncer de pele não-melanoma (1,04 milhão de casos)</br></br>\n",
    "* Estômago (1,03 milhão de casos)</br></br>\n",
    "\n",
    "No Brasil em 2023, 30% dos casos de câncer na mulher é de mama.\n",
    "</br></br>\n",
    "| Localização Primária | Casos Novos | % | \n",
    "| -- | -- | -- |\n",
    "| **Mama Feminina** | 73.610 | 30.1 |\n",
    "| Cólon e reto | 23.660 | 9.7 | \n",
    "| Colo do útero | 17.010 | 7.0 |\n",
    "| Traqueia,Brônquio e Pulmão | 14.540 | 6.0 |\n",
    "| Glandula Tireoide | 14.160 | 5.4 | \n",
    "\n",
    "#### Dores / Necessidades do Negócio\n",
    "\n",
    "Identificar possíveis sinais no diagnóstico que indicam a recorrência de nódulos, em quanto tempo ele poderá atingir um determinado tamanho, que tipo de medicamento foi efetivo, que tipo de procedimento foi efetivo.\n",
    "\n",
    "</br></br>\n"
   ]
  },
  {
   "cell_type": "markdown",
   "metadata": {
    "application/vnd.databricks.v1+cell": {
     "cellMetadata": {},
     "inputWidgets": {},
     "nuid": "13c082ed-98aa-43bf-8a36-adfbfe88ffec",
     "showTitle": false,
     "title": ""
    }
   },
   "source": [
    "<img src=\"https://raw.githubusercontent.com/Databricks-BR/genai_hackathon/main/images/head_proposito.png\" width=\"900px\">"
   ]
  },
  {
   "cell_type": "markdown",
   "metadata": {
    "application/vnd.databricks.v1+cell": {
     "cellMetadata": {},
     "inputWidgets": {},
     "nuid": "ce3b1caf-e435-492c-8b2a-828573210cb4",
     "showTitle": false,
     "title": ""
    }
   },
   "source": [
    "#### Objetivo da Solução Proposta\n",
    "\n",
    "A proposta da nossa solução é proporcionar um suporte abrangente e acessível para os médicos na identificação e categorização de nódulos mamários, utilizando inteligência artificial para oferecer diagnósticos precisos e confiáveis. Nosso objetivo é apoiar os profissionais de saúde em suas decisões clínicas, fornecendo informações detalhadas sobre as características dos nódulos e orientações baseadas em dados para os próximos passos. \n",
    "\n",
    "Acreditamos que, ao equipar os médicos com ferramentas avançadas de análise e diagnóstico, podemos melhorar significativamente a acurácia dos diagnósticos e a eficácia dos tratamentos, contribuindo para a detecção precoce e aumentando as chances de cura dos pacientes.\n",
    "\n",
    "90% das mulheres diagnosticadas com câncer de mama, ainda no início da doença, conseguem sobreviver por pelo menos mais 5 anos. Se olharmos a estatística ao contrário apenas 15% das mulheres que se descobrem com a doença, já em estágio avançado, conseguem manter-se vivas.\n",
    "</br></br>\n",
    "\n",
    "#### Benefícios\n",
    "\n",
    "Se ajudarmos aos profissionais de saúde identificar os sinais do avanço de um câncer, trazendo mais clareza sobre quais procedimentos eles devem seguir para que consigam tratar de forma mais adequada. Com a nossa solução que utiliza a análise de texto, podemos ajudar a eles a melhorar o seu atendimento e até a salvar vidas.\n",
    "\n",
    "</br></br>\n"
   ]
  },
  {
   "cell_type": "markdown",
   "metadata": {
    "application/vnd.databricks.v1+cell": {
     "cellMetadata": {},
     "inputWidgets": {},
     "nuid": "5c71e6c5-9c03-46a1-a63a-45a38b903657",
     "showTitle": false,
     "title": ""
    }
   },
   "source": [
    "<img src=\"https://raw.githubusercontent.com/Databricks-BR/genai_hackathon/main/images/head_arquitetura.png\" width=\"900px\">\n"
   ]
  },
  {
   "cell_type": "markdown",
   "metadata": {
    "application/vnd.databricks.v1+cell": {
     "cellMetadata": {},
     "inputWidgets": {},
     "nuid": "a71a9380-19f8-46d6-8b82-b14a11c41394",
     "showTitle": false,
     "title": ""
    }
   },
   "source": [
    "### Arquitetura\n",
    "\n",
    "* Provedor Cloud:   ---\n",
    "* Cluster / DB Runtime:   13.3 LTS / Standard DS3 v2 - scala\n",
    "* Bibliotecas utilizadas:  spark\n",
    "\n",
    "### Técnicas Utilizadas\n",
    "\n",
    "* Genie Spaces (Data Room)\n",
    "\n"
   ]
  },
  {
   "cell_type": "markdown",
   "metadata": {
    "application/vnd.databricks.v1+cell": {
     "cellMetadata": {},
     "inputWidgets": {},
     "nuid": "57d22ce3-1e3f-4e23-98fe-3b1deeeeccd3",
     "showTitle": false,
     "title": ""
    }
   },
   "source": [
    "<img src=\"https://raw.githubusercontent.com/Databricks-BR/genai_hackathon/main/images/head_referencias.png\" width=\"900px\">\n"
   ]
  },
  {
   "cell_type": "markdown",
   "metadata": {
    "application/vnd.databricks.v1+cell": {
     "cellMetadata": {},
     "inputWidgets": {},
     "nuid": "50c6d96d-a641-40a8-8fb5-11031e512551",
     "showTitle": false,
     "title": ""
    }
   },
   "source": [
    "#### Referências:\n",
    "* [Introdução ao DBRX LLM foundation model Databricks](https://www.databricks.com/blog/introducing-dbrx-new-state-art-open-llm)\n",
    "* [Documentação do Gen AI Databricks](https://docs.databricks.com/en/generative-ai/generative-ai.html)\n",
    "* [Foundation LLM Models APIs](https://docs.databricks.com/en/machine-learning/foundation-models/index.html#pay-per-token-foundation-model-apis)\n",
    "* [INCA](https://www.gov.br/inca/pt-br/assuntos/cancer/o-que-e-cancer)\n",
    "* [OPAS/OMS](https://www.paho.org/pt/topicos/cancer#:~:text=O%20c%C3%A2ncer%20%C3%A9%20a%20segunda,de%20baixa%20e%20m%C3%A9dia%20renda)\n",
    "* [GOV: Estatisticas acerca de câncer](https://www.gov.br/inca/pt-br/assuntos/cancer/numeros)\n"
   ]
  },
  {
   "cell_type": "markdown",
   "metadata": {
    "application/vnd.databricks.v1+cell": {
     "cellMetadata": {},
     "inputWidgets": {},
     "nuid": "e741e5b3-4f85-458f-b5e1-9e81afa7d53c",
     "showTitle": false,
     "title": ""
    }
   },
   "source": [
    "<img src=\"https://raw.githubusercontent.com/Databricks-BR/genai_hackathon/main/images/Genie_head.jpeg\" width=\"900px\">\n",
    "\n",
    "# Criando a base para o Hackathon\n",
    "Antes de criarmos nossas tabelas, precisamos criar um catálogo, um schema e um volume (que facilitará nosso processo de ingestão) para receber os arquivos da origem. \n",
    "* Catálogo:  Os objetos no Databricks (tabelas, views, modelos, etc), possuem o namespace composto por 3 partes. o catálogo é a primeira delas;\n",
    "* Schema: Já o schema é o segundo nível deste namespace. Tanto o catálogo quanto o schema, servem para organização lógica simplificando a governança;\n",
    "* Volume: O volume é um diretório onde você pode fazer upload de arquivos. O volume reside dentro de um schema, deixa o ambiente mais governado e facilita o desenvolvimento.\n",
    "\n",
    "\n"
   ]
  },
  {
   "cell_type": "markdown",
   "metadata": {
    "application/vnd.databricks.v1+cell": {
     "cellMetadata": {},
     "inputWidgets": {},
     "nuid": "eb608214-f519-4cf2-b7d9-0b2fb1ea5bba",
     "showTitle": false,
     "title": ""
    }
   },
   "source": [
    "\n",
    "### Criando o catálogo, schema e volume\n",
    "\n",
    "Tudo o que você precisará fazer, é preencher o widget no canto superior esquerdo chamado de **\"Prefixo\"**. O código abaixo se encarregará de fazer a criação de todo o necessário"
   ]
  },
  {
   "cell_type": "code",
   "execution_count": 0,
   "metadata": {
    "application/vnd.databricks.v1+cell": {
     "cellMetadata": {
      "byteLimit": 2048000,
      "rowLimit": 10000
     },
     "inputWidgets": {},
     "nuid": "f3dbc41a-2085-47d8-aa2d-cbf1cad12c16",
     "showTitle": false,
     "title": ""
    }
   },
   "outputs": [],
   "source": [
    "\n",
    "prefixo = dbutils.widgets.get('Prefixo')  # USE O WIDGET NO CANTO SUPERIOR ESQUERDO PARA PREENCHER O PREFIXO DO SEU CATALOGO. SUGESTAO: INICIAIS DO SEU NOME + HACKATHON EXEMPLO: jsf_hackathon\n",
    "catalog = prefix+\"_catalog\"\n",
    "schema = prefix\n",
    "volume = \"genie_vol\"\n",
    "\n",
    "commands = [f\"CREATE CATALOG IF NOT EXISTS {catalog}\"\n",
    "            ,f\"CREATE SCHEMA IF NOT EXISTS {catalog}.{prefixo}\"\n",
    "            ,f\"CREATE VOLUME IF NOT EXISTS {catalog}.{schema}.{volume}\"\n",
    "            ]\n",
    "for sql_command in commands:\n",
    "  print (f\"Executando: {sql_command}\")\n",
    "  spark.sql(sql_command)\n"
   ]
  },
  {
   "cell_type": "code",
   "execution_count": 0,
   "metadata": {
    "application/vnd.databricks.v1+cell": {
     "cellMetadata": {
      "byteLimit": 2048000,
      "rowLimit": 10000
     },
     "inputWidgets": {},
     "nuid": "b73172ff-7168-4759-a2b1-3bcb55be3ae8",
     "showTitle": false,
     "title": ""
    }
   },
   "outputs": [],
   "source": [
    "import os\n",
    "from pyspark.sql import SparkSession\n",
    "\n",
    "# Variável do path dos arquivos \n",
    "diretorio = f\"/Volumes/{catalog}/{schema}/{volume}\"\n",
    "\n",
    "# Nesta etapa vamos ler todos os arquivos do diretório e criar uma tabela para cada arquivo\n",
    "for nome_arquivo in os.listdir(diretorio):\n",
    "        tipo_arquivo=nome_arquivo.split('.')[1]\n",
    "        \n",
    "        if tipo_arquivo ==\"csv\" :\n",
    "          df = spark.read.format(\"csv\").option(\"header\", \"true\").option(\"inferSchema\", \"true\").load(os.path.join(diretorio, nome_arquivo))\n",
    "        if tipo_arquivo==\"json\":\n",
    "          df = spark.read.format(\"json\").option(\"inferSchema\", \"true\").load(os.path.join(diretorio, nome_arquivo))\n",
    "        if tipo_arquivo==\"parquet\":\n",
    "          df = spark.read.format(\"parquet\").option(\"inferSchema\", \"true\").load(os.path.join(diretorio, nome_arquivo)) \n",
    "    \n",
    "        # Seguindo a arquitetura medalhão, vamos remover a extensão do arquivo e adicionar o sulfixo _bronze ao nome das tabelas\n",
    "        table_name = nome_arquivo.split('.')[0]+\"_bronze\"\n",
    "        # Criando  tabela\n",
    "        df.write.format(\"delta\").mode(\"overwrite\").saveAsTable(f\"{catalog}.{schema}.{table_name}\")"
   ]
  },
  {
   "cell_type": "markdown",
   "metadata": {
    "application/vnd.databricks.v1+cell": {
     "cellMetadata": {},
     "inputWidgets": {},
     "nuid": "dbefc29e-5447-4605-b893-7349238ead78",
     "showTitle": false,
     "title": ""
    }
   },
   "source": [
    "## Tratamento de Dados\n",
    "\n",
    "<img style=\"float: left; margin-right: 20px\" width=\"400px\" src=\"https://raw.githubusercontent.com/Databricks-BR/genai_hackathon/main/images/medallion.jpeg\">\n",
    "\n",
    "\n",
    "* Se necessário, utilize a célula abaixo para transformar seus dados:\n",
    "   * Joins\n",
    "   * Data cleaning\n",
    "   * Agregações\n"
   ]
  },
  {
   "cell_type": "code",
   "execution_count": 0,
   "metadata": {
    "application/vnd.databricks.v1+cell": {
     "cellMetadata": {},
     "inputWidgets": {},
     "nuid": "32920178-6901-4464-baad-0bf700ddeea6",
     "showTitle": false,
     "title": ""
    }
   },
   "outputs": [],
   "source": [
    "# Dataframe pequeno\n",
    "import pandas as pd\n",
    "columns = [\n",
    "    \"ID Number\", \"Outcome\", \"Radius\", \"Texture\", \"Perimeter\", \"Area\", \n",
    "    \"Smoothness\", \"Compactness\", \"Concavity\", \"Concave Points\", \n",
    "    \"Symmetry\", \"Fractal Dimension\", \"Radius Variance\", \"Texture Variance\", \n",
    "    \"Perimeter Variance\", \"Area Variance\", \"Smoothness Variance\", \n",
    "    \"Compactness Variance\", \"Concavity Variance\", \"Concave Points Variance\"\n",
    "]\n",
    "df = pd.read_csv('outcome_incisions.csv', header=None)\n",
    "df = df.iloc[:, 1:]\n",
    "df_selected = df.iloc[:, :20]\n",
    "df_selected.columns = columns\n",
    "df_selected.reset_index(drop=True, inplace=True)\n",
    "print(df_selected.head())\n",
    "df_selected.to_csv('outcome_incisions_selected.csv', index=False)"
   ]
  },
  {
   "cell_type": "markdown",
   "metadata": {
    "application/vnd.databricks.v1+cell": {
     "cellMetadata": {},
     "inputWidgets": {},
     "nuid": "9e112a2d-794f-46d3-a572-3270a37fece6",
     "showTitle": false,
     "title": ""
    }
   },
   "source": [
    "# Criando um Genie Spaces\n",
    "\n",
    "Agora que nossa base de dados está pronta, chegou o momento de usarmos a IA para viabilizar a consulta por linguagem natual"
   ]
  },
  {
   "cell_type": "markdown",
   "metadata": {
    "application/vnd.databricks.v1+cell": {
     "cellMetadata": {},
     "inputWidgets": {},
     "nuid": "e83b6f5c-d47c-4f39-b98a-a5b3ce285348",
     "showTitle": false,
     "title": ""
    }
   },
   "source": [
    "<img src=\"https://raw.githubusercontent.com/RP-viniciusruscinc/hackaton2024/main/imagem.png\" alt=\"image (3)\"/>"
   ]
  },
  {
   "cell_type": "markdown",
   "metadata": {
    "application/vnd.databricks.v1+cell": {
     "cellMetadata": {},
     "inputWidgets": {},
     "nuid": "f13828d2-c635-4e92-a2e4-7d48ee0e5924",
     "showTitle": false,
     "title": ""
    }
   },
   "source": [
    "<img src=\"https://raw.githubusercontent.com/RP-viniciusruscinc/hackaton2024/main/imagem%20(1).png\" alt=\"image (3)\"/>"
   ]
  }
 ],
 "metadata": {
  "application/vnd.databricks.v1+notebook": {
   "dashboards": [],
   "environmentMetadata": null,
   "language": "python",
   "notebookMetadata": {
    "pythonIndentUnit": 2
   },
   "notebookName": "Grupo 03 - IASAUDE",
   "widgets": {
    "Prefixo": {
     "currentValue": "jsf_hackathon",
     "nuid": "f6589859-3dc3-402d-ae29-cd728fcfc3a4",
     "typedWidgetInfo": null,
     "widgetInfo": {
      "widgetType": "text",
      "defaultValue": "",
      "label": "",
      "name": "Prefixo",
      "options": {
       "widgetType": "text",
       "autoCreated": false,
       "validationRegex": null
      }
     }
    }
   }
  },
  "language_info": {
   "name": "python"
  }
 },
 "nbformat": 4,
 "nbformat_minor": 0
}
