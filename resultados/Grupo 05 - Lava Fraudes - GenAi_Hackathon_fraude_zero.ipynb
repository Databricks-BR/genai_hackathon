{
 "cells": [
  {
   "cell_type": "markdown",
   "metadata": {
    "application/vnd.databricks.v1+cell": {
     "cellMetadata": {},
     "inputWidgets": {},
     "nuid": "19aa9e2d-af51-4011-be5d-a8b532e3d2f9",
     "showTitle": false,
     "title": ""
    }
   },
   "source": [
    "<img src=\"https://raw.githubusercontent.com/Databricks-BR/genai_hackathon/main/images/head_genai_hackathon.gif\" width=\"700px\">"
   ]
  },
  {
   "cell_type": "markdown",
   "metadata": {
    "application/vnd.databricks.v1+cell": {
     "cellMetadata": {},
     "inputWidgets": {},
     "nuid": "00277f45-5ea3-4ce6-9f14-aaf15e343e89",
     "showTitle": false,
     "title": ""
    }
   },
   "source": [
    "<img src=\"https://raw.githubusercontent.com/Databricks-BR/genai_hackathon/main/images/head_titulo.png\" width=\"900px\">"
   ]
  },
  {
   "cell_type": "markdown",
   "metadata": {
    "application/vnd.databricks.v1+cell": {
     "cellMetadata": {},
     "inputWidgets": {},
     "nuid": "5002816f-831d-42b0-b802-96c874189bd5",
     "showTitle": false,
     "title": ""
    }
   },
   "source": [
    "## Título:  Projeto Fraude Zero  \n",
    "\n",
    "| ITEM | DESCRIÇÃO |\n",
    "| -- | -- |\n",
    "| Indústria: | Empresas financeiras que desejam evitar fraude\n",
    "| Departamento: | Instituições financeiras\n",
    "| Tipo de Solução: | Assistente Genie"
   ]
  },
  {
   "cell_type": "markdown",
   "metadata": {
    "application/vnd.databricks.v1+cell": {
     "cellMetadata": {},
     "inputWidgets": {},
     "nuid": "b38ae60c-5b77-4095-a2b4-7fc93027ad56",
     "showTitle": false,
     "title": ""
    }
   },
   "source": [
    "%md\n",
    "<img src=\"https://raw.githubusercontent.com/Databricks-BR/genai_hackathon/main/images/head_grupo.png\" width=\"900px\">"
   ]
  },
  {
   "cell_type": "markdown",
   "metadata": {
    "application/vnd.databricks.v1+cell": {
     "cellMetadata": {},
     "inputWidgets": {},
     "nuid": "39d4e590-16af-4fa4-ad54-1f4b944f86b6",
     "showTitle": false,
     "title": ""
    }
   },
   "source": [
    "\n",
    "### GRUPO 05 - Lava Fraude\n",
    "\n",
    "| # | Nome do Integrante | Empresa | e-mail |\n",
    "| -- | -- | -- | -- |\n",
    "| 1 | Ana Laura Miranda | Nitro | ana.miranda@nitro.com.br |\n",
    "| 2 | André Barbosa | Nitro | andre.barbosa@nitro.com.br |\n",
    "| 3 |João Marinho | Nitro  | joao.marinho@nitro.com.br |\n",
    "| 4 | João Paulo Alonso | Aramis | joao.alonso@aramisinc.com.br |\n",
    "| 5 | Renato Moreira | Recarga Pay |  renato.moreira@recargapay.com |\n",
    "| 6 | Tiago Barros  | Recarga Pay |  tiago.barros@recargapay.com |"
   ]
  },
  {
   "cell_type": "markdown",
   "metadata": {
    "application/vnd.databricks.v1+cell": {
     "cellMetadata": {},
     "inputWidgets": {},
     "nuid": "786cf143-0d44-4a56-a5b3-c851acfd23ce",
     "showTitle": false,
     "title": ""
    }
   },
   "source": [
    "<img src=\"https://raw.githubusercontent.com/Databricks-BR/genai_hackathon/main/images/head_contexto.png\" width=\"900px\">"
   ]
  },
  {
   "cell_type": "markdown",
   "metadata": {
    "application/vnd.databricks.v1+cell": {
     "cellMetadata": {},
     "inputWidgets": {},
     "nuid": "755b2368-3559-4a40-ba36-f9c6eac4727a",
     "showTitle": false,
     "title": ""
    }
   },
   "source": [
    "#### Cenário Atual\n",
    "\n",
    "Apesar dos esforços contínuos para proteger nossos clientes e manter a integridade dos nossos serviços financeiros, enfrentamos desafios na identificação eficiente de grupos fraudulentos, sobrecarga nas análises manuais de casos suspeitos e dificuldade em adaptar políticas específicas a grupos de clientes. Essas dificuldades resultam em atrasos na detecção de ameaças e na implementação de medidas preventivas oportunas. \n",
    "Reconhecemos a necessidade de soluções inovadoras, como a plataforma Genie, para aprimorar nossas capacidades de prevenção e detecção de fraudes.\n",
    "\n",
    "</br></br>\n",
    "\n",
    "#### Dores / Necessidades do Negócio\n",
    "\n",
    "Enfrentamos obstáculos na prevenção de fraudes, como a identificação de grupos fraudulentos, sobrecarga nas análises manuais de casos suspeitos e a adaptação de políticas específicas a diferentes segmentos de clientes. \n",
    "Estamos comprometidos em controlar os níveis de fraude conforme as diretrizes estabelecidas pelo Banco Central, assegurando a continuidade dos nossos serviços financeiros.\n",
    "\n",
    "\n",
    "</br></br>\n"
   ]
  },
  {
   "cell_type": "markdown",
   "metadata": {
    "application/vnd.databricks.v1+cell": {
     "cellMetadata": {},
     "inputWidgets": {},
     "nuid": "f73c7531-49df-476f-8504-5b604b6ff2fa",
     "showTitle": false,
     "title": ""
    }
   },
   "source": []
  },
  {
   "cell_type": "markdown",
   "metadata": {
    "application/vnd.databricks.v1+cell": {
     "cellMetadata": {},
     "inputWidgets": {},
     "nuid": "13c082ed-98aa-43bf-8a36-adfbfe88ffec",
     "showTitle": false,
     "title": ""
    }
   },
   "source": [
    "<img src=\"https://raw.githubusercontent.com/Databricks-BR/genai_hackathon/main/images/head_proposito.png\" width=\"900px\">"
   ]
  },
  {
   "cell_type": "markdown",
   "metadata": {
    "application/vnd.databricks.v1+cell": {
     "cellMetadata": {},
     "inputWidgets": {},
     "nuid": "ce3b1caf-e435-492c-8b2a-828573210cb4",
     "showTitle": false,
     "title": ""
    }
   },
   "source": [
    "#### Objetivo da Solução Proposta\n",
    "\n",
    "Utilizar a plataforma Genie para identificar grupos de clientes fraudulentos, compreender seus perfis e adaptar políticas específicas para clientes suspeitos de fraude. \n",
    "Isso nos permitirá realizar análises individuais com maior precisão e tomar decisões mais informadas na concessão de serviços.\n",
    "\n",
    "\n",
    "</br></br>\n",
    "\n",
    "#### Benefícios\n",
    "\n",
    "Melhoria na precisão das análises individuais de casos suspeitos de fraude. \n",
    "Flexibilidade para ajustar políticas conforme regiões ou estados.\n",
    "Controle dos índices de chargeback para que se mantenham dentro dos limites estabelecidos pelo Banco Central.\n",
    "</br></br>\n"
   ]
  },
  {
   "cell_type": "markdown",
   "metadata": {
    "application/vnd.databricks.v1+cell": {
     "cellMetadata": {},
     "inputWidgets": {},
     "nuid": "5c71e6c5-9c03-46a1-a63a-45a38b903657",
     "showTitle": false,
     "title": ""
    }
   },
   "source": [
    "<img src=\"https://raw.githubusercontent.com/Databricks-BR/genai_hackathon/main/images/head_arquitetura.png\" width=\"900px\">\n"
   ]
  },
  {
   "cell_type": "markdown",
   "metadata": {
    "application/vnd.databricks.v1+cell": {
     "cellMetadata": {},
     "inputWidgets": {},
     "nuid": "a71a9380-19f8-46d6-8b82-b14a11c41394",
     "showTitle": false,
     "title": ""
    }
   },
   "source": [
    "### Arquitetura\n",
    "\n",
    "* Provedor Cloud:   Azure \n",
    "* Cluster / DB Runtime: 14.3 LTS (includes Apache Spark 3.5.0, Scala 2.12) / 14.3.x-scala2.12\n",
    "* Bibliotecas utilizadas: Pandas, Math, Spark SQL\n",
    "\n",
    "### Técnicas Utilizadas\n",
    "\n",
    "* Genie Spaces (Data Room)\n",
    "\n"
   ]
  },
  {
   "cell_type": "markdown",
   "metadata": {
    "application/vnd.databricks.v1+cell": {
     "cellMetadata": {},
     "inputWidgets": {},
     "nuid": "57d22ce3-1e3f-4e23-98fe-3b1deeeeccd3",
     "showTitle": false,
     "title": ""
    }
   },
   "source": [
    "<img src=\"https://raw.githubusercontent.com/Databricks-BR/genai_hackathon/main/images/head_referencias.png\" width=\"900px\">\n"
   ]
  },
  {
   "cell_type": "markdown",
   "metadata": {
    "application/vnd.databricks.v1+cell": {
     "cellMetadata": {},
     "inputWidgets": {},
     "nuid": "50c6d96d-a641-40a8-8fb5-11031e512551",
     "showTitle": false,
     "title": ""
    }
   },
   "source": [
    "#### Referências:\n",
    "* [Documentação do Gen AI Databricks](https://docs.databricks.com/en/generative-ai/generative-ai.html)\n",
    "\n"
   ]
  },
  {
   "cell_type": "markdown",
   "metadata": {
    "application/vnd.databricks.v1+cell": {
     "cellMetadata": {},
     "inputWidgets": {},
     "nuid": "da96470e-cf55-4128-91e1-329746c9f7e0",
     "showTitle": false,
     "title": ""
    }
   },
   "source": [
    "<img src=\"https://github.com/joaopsmdev/images-hackaton/blob/main/fraude_estado.png?raw=true\">\n",
    "\n",
    "<img src=\"https://github.com/joaopsmdev/images-hackaton/blob/main/grafico_fraudes_estado.png?raw=true\">\n",
    "\n"
   ]
  },
  {
   "cell_type": "markdown",
   "metadata": {
    "application/vnd.databricks.v1+cell": {
     "cellMetadata": {},
     "inputWidgets": {},
     "nuid": "9236480d-e4ce-4818-b07a-8705f8ef0a23",
     "showTitle": false,
     "title": ""
    }
   },
   "source": [
    "<img src=\"https://github.com/joaopsmdev/images-hackaton/blob/main/cartoes%20com%20mais%20de%20um%20usuario.png?raw=true\">"
   ]
  },
  {
   "cell_type": "markdown",
   "metadata": {
    "application/vnd.databricks.v1+cell": {
     "cellMetadata": {},
     "inputWidgets": {},
     "nuid": "57b9a739-07ab-4b0b-b3bc-ef28fb11ee2c",
     "showTitle": false,
     "title": ""
    }
   },
   "source": [
    "<img src=\"https://github.com/joaopsmdev/images-hackaton/blob/main/fraudes%20de%20domingo%20a%20sabado.png?raw=true\">\n",
    "\n",
    "<img src=\"https://github.com/joaopsmdev/images-hackaton/blob/main/grafico%20de%20domingos%20a%20sabado.png?raw=true\">\n"
   ]
  },
  {
   "cell_type": "markdown",
   "metadata": {
    "application/vnd.databricks.v1+cell": {
     "cellMetadata": {},
     "inputWidgets": {},
     "nuid": "06f777e1-e0ab-4f63-9464-8d6d451aa904",
     "showTitle": false,
     "title": ""
    }
   },
   "source": [
    "<img src=\"https://github.com/joaopsmdev/images-hackaton/blob/main/fraudes%20em%20finais%20de%20semana.png?raw=true\">\n",
    "\n"
   ]
  },
  {
   "cell_type": "markdown",
   "metadata": {
    "application/vnd.databricks.v1+cell": {
     "cellMetadata": {},
     "inputWidgets": {},
     "nuid": "1e00a966-e307-4944-b8c8-cc47dae72c33",
     "showTitle": false,
     "title": ""
    }
   },
   "source": [
    "<img src=\"https://github.com/joaopsmdev/images-hackaton/blob/main/valores%20em%20fraude.png?raw=true\">\n",
    "\n",
    "\n"
   ]
  }
 ],
 "metadata": {
  "application/vnd.databricks.v1+notebook": {
   "dashboards": [],
   "environmentMetadata": null,
   "language": "python",
   "notebookMetadata": {
    "pythonIndentUnit": 2
   },
   "notebookName": "Grupo 05 - Lava Fraudes - GenAi_Hackathon_fraude_zero",
   "widgets": {
    "Prefixo": {
     "currentValue": "jsf_hackathon",
     "nuid": "f6589859-3dc3-402d-ae29-cd728fcfc3a4",
     "typedWidgetInfo": null,
     "widgetInfo": {
      "widgetType": "text",
      "defaultValue": "",
      "label": "",
      "name": "Prefixo",
      "options": {
       "widgetType": "text",
       "autoCreated": false,
       "validationRegex": null
      }
     }
    }
   }
  }
 },
 "nbformat": 4,
 "nbformat_minor": 0
}
