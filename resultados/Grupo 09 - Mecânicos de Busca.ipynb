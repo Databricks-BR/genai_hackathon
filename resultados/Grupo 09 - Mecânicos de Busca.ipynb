{
 "cells": [
  {
   "cell_type": "markdown",
   "metadata": {
    "application/vnd.databricks.v1+cell": {
     "cellMetadata": {},
     "inputWidgets": {},
     "nuid": "19aa9e2d-af51-4011-be5d-a8b532e3d2f9",
     "showTitle": false,
     "title": ""
    }
   },
   "source": [
    "<img src=\"https://raw.githubusercontent.com/Databricks-BR/genai_hackathon/main/images/head_genai_hackathon.gif\" width=\"700px\">"
   ]
  },
  {
   "cell_type": "markdown",
   "metadata": {
    "application/vnd.databricks.v1+cell": {
     "cellMetadata": {},
     "inputWidgets": {},
     "nuid": "00277f45-5ea3-4ce6-9f14-aaf15e343e89",
     "showTitle": false,
     "title": ""
    }
   },
   "source": [
    "<img src=\"https://raw.githubusercontent.com/Databricks-BR/genai_hackathon/main/images/head_titulo.png\" width=\"900px\">"
   ]
  },
  {
   "cell_type": "markdown",
   "metadata": {
    "application/vnd.databricks.v1+cell": {
     "cellMetadata": {},
     "inputWidgets": {},
     "nuid": "5002816f-831d-42b0-b802-96c874189bd5",
     "showTitle": false,
     "title": ""
    }
   },
   "source": [
    "## Título: Gerador de Artigos\n",
    "\n",
    "| ITEM | DESCRIÇÃO |\n",
    "| -- | -- |\n",
    "| Indústria: | Digital |\n",
    "| Departamento: | Marketing |\n",
    "| Tipo de Solução: | Gerador de Conteúdo |"
   ]
  },
  {
   "cell_type": "markdown",
   "metadata": {
    "application/vnd.databricks.v1+cell": {
     "cellMetadata": {},
     "inputWidgets": {},
     "nuid": "b38ae60c-5b77-4095-a2b4-7fc93027ad56",
     "showTitle": false,
     "title": ""
    }
   },
   "source": [
    "%md\n",
    "<img src=\"https://raw.githubusercontent.com/Databricks-BR/genai_hackathon/main/images/head_grupo.png\" width=\"900px\">"
   ]
  },
  {
   "cell_type": "markdown",
   "metadata": {
    "application/vnd.databricks.v1+cell": {
     "cellMetadata": {},
     "inputWidgets": {},
     "nuid": "39d4e590-16af-4fa4-ad54-1f4b944f86b6",
     "showTitle": false,
     "title": ""
    }
   },
   "source": [
    "\n",
    "### GRUPO 09 - Mecânicos de Busca\n",
    "\n",
    "| # | Nome do Integrante | Empresa | e-mail |\n",
    "| -- | -- | -- | -- |\n",
    "| 1 | Leonardo Machado | Consumidor Positivo | leonardo.machado@consumidorpositivo.com.br |\n",
    "| 2 | Francisco Cidade | Consumidor Positivo | francisco.cidade@consumidorpositivo.com.br |\n",
    "| 3 | William Nicolau | Consumidor Positivo | william.nicolau@consumidorpositivo.com.br |\n",
    "| 4 | Vinicio Braga | Consumidor Positivo | vinicio.braga@consumidorpositivo.com.br |\n",
    "| 5 | Virginia Costa | Volkswagen | virginia.costa@volkswagen.com.br | \n",
    "| 6 | Caroline Melo | Volkswagen | caroline.melo@volkswagen.com.br | "
   ]
  },
  {
   "cell_type": "markdown",
   "metadata": {
    "application/vnd.databricks.v1+cell": {
     "cellMetadata": {},
     "inputWidgets": {},
     "nuid": "786cf143-0d44-4a56-a5b3-c851acfd23ce",
     "showTitle": false,
     "title": ""
    }
   },
   "source": [
    "<img src=\"https://raw.githubusercontent.com/Databricks-BR/genai_hackathon/main/images/head_contexto.png\" width=\"900px\">"
   ]
  },
  {
   "cell_type": "markdown",
   "metadata": {
    "application/vnd.databricks.v1+cell": {
     "cellMetadata": {},
     "inputWidgets": {},
     "nuid": "755b2368-3559-4a40-ba36-f9c6eac4727a",
     "showTitle": false,
     "title": ""
    }
   },
   "source": [
    "#### Cenário Atual\n",
    "\n",
    "Empresas de todos os tamanhos, incluindo negócios individuais, gastam uma grande quantidade de recursos com a estratégia de SEO - Search Engine Optimization.\n",
    "\n",
    "O objetivo do SEO é gerar artigos de blogs que \"rankeiam\" no Google - assim, quando pessoas buscam um termo do tipo \"como fazer um bolo de chocolate\", o artigo que aparece em primeiro lugar recebe um grande número de acessos \"orgânicos\".\n",
    "\n",
    "#### Dores / Necessidades do Negócio\n",
    "\n",
    "Para gerar esses artigos, geralmente é preciso contratar redatores, editores e revisores, que são responsáveis por pesquisar um tema e produzir conteúdo sobre o tema - o processo de pesquisa, escrita e revisão pode ser demorado e caro.\n",
    "\n",
    "Diminuir a quantidade de recursos necessários para gerar conteúdo novo para um site e acelerar o processo pode ser uma grande alavanca para \"criar\" volume de acessos em um site.\n"
   ]
  },
  {
   "cell_type": "markdown",
   "metadata": {
    "application/vnd.databricks.v1+cell": {
     "cellMetadata": {},
     "inputWidgets": {},
     "nuid": "13c082ed-98aa-43bf-8a36-adfbfe88ffec",
     "showTitle": false,
     "title": ""
    }
   },
   "source": [
    "<img src=\"https://raw.githubusercontent.com/Databricks-BR/genai_hackathon/main/images/head_proposito.png\" width=\"900px\">"
   ]
  },
  {
   "cell_type": "markdown",
   "metadata": {
    "application/vnd.databricks.v1+cell": {
     "cellMetadata": {},
     "inputWidgets": {},
     "nuid": "ce3b1caf-e435-492c-8b2a-828573210cb4",
     "showTitle": false,
     "title": ""
    }
   },
   "source": [
    "#### Objetivo da Solução Proposta\n",
    "\n",
    "- Utilizar uma combinação de tecnologias (Google Search Console, modelos de linguagem e prompt engineering) para descobrir os \"melhores\" textos sobre um certo assunto (os 10 primeiros resultados do Google, por exemplo);\n",
    "- Criar uma \"base de conhecimento\" utilizando esses textos para evitar que o modelo de linguagem produza conteúdo falso;\n",
    "- Utilizar o modelo de linguagem para produzir um novo texto, utilizando o conteúdo obtido, com o objetivo de rankear na primeira página do Google.\n",
    "\n",
    "#### Benefícios\n",
    "\n",
    "- Redução de custos para geração de conteúdo\n",
    "- Melhoria da eficiência de processo de geração de conteúdo\n",
    "- Potencial de aumento de usuários vindos de canal \"orgânico\" no site\n",
    "- Desvio do foco de geração de conteúdo para \"curadoria\" do conteúdo - processo centrado na revisão"
   ]
  },
  {
   "cell_type": "markdown",
   "metadata": {
    "application/vnd.databricks.v1+cell": {
     "cellMetadata": {},
     "inputWidgets": {},
     "nuid": "5c71e6c5-9c03-46a1-a63a-45a38b903657",
     "showTitle": false,
     "title": ""
    }
   },
   "source": [
    "<img src=\"https://raw.githubusercontent.com/Databricks-BR/genai_hackathon/main/images/head_arquitetura.png\" width=\"900px\">\n"
   ]
  },
  {
   "cell_type": "markdown",
   "metadata": {
    "application/vnd.databricks.v1+cell": {
     "cellMetadata": {},
     "inputWidgets": {},
     "nuid": "a71a9380-19f8-46d6-8b82-b14a11c41394",
     "showTitle": false,
     "title": ""
    }
   },
   "source": [
    "### Arquitetura\n",
    "\n",
    "* Provedor Cloud: AWS\n",
    "* Cluster / DB Runtime: 14.3.x LTS - r5d.large\n",
    "* Bibliotecas utilizadas: `openai` `google-api-python-client` `html2text` `bs5` `requests`\n",
    "\n",
    "### Técnicas Utilizadas\n",
    "\n",
    "* Web Scrapping\n",
    "* Prompt Engineering (external-model: openai - `gpt-3.5-turbo`)\n"
   ]
  },
  {
   "cell_type": "markdown",
   "metadata": {
    "application/vnd.databricks.v1+cell": {
     "cellMetadata": {},
     "inputWidgets": {},
     "nuid": "57d22ce3-1e3f-4e23-98fe-3b1deeeeccd3",
     "showTitle": false,
     "title": ""
    }
   },
   "source": [
    "<img src=\"https://raw.githubusercontent.com/Databricks-BR/genai_hackathon/main/images/head_referencias.png\" width=\"900px\">\n"
   ]
  },
  {
   "cell_type": "markdown",
   "metadata": {
    "application/vnd.databricks.v1+cell": {
     "cellMetadata": {},
     "inputWidgets": {},
     "nuid": "50c6d96d-a641-40a8-8fb5-11031e512551",
     "showTitle": false,
     "title": ""
    }
   },
   "source": [
    "#### Referências:\n",
    "* [Introdução ao DBRX LLM foundation model Databricks](https://www.databricks.com/blog/introducing-dbrx-new-state-art-open-llm)\n",
    "* [Documentação do Gen AI Databricks](https://docs.databricks.com/en/generative-ai/generative-ai.html)\n",
    "* [Foundation LLM Models APIs](https://docs.databricks.com/en/machine-learning/foundation-models/index.html#pay-per-token-foundation-model-apis)\n",
    "* [OpenAI API Reference](https://platform.openai.com/docs/api-reference/introduction)\n",
    "* [Google Search Console API Reference](https://developers.google.com/webmaster-tools/v1/api_reference_index)\n"
   ]
  },
  {
   "cell_type": "markdown",
   "metadata": {
    "application/vnd.databricks.v1+cell": {
     "cellMetadata": {},
     "inputWidgets": {},
     "nuid": "9075a433-e499-4aad-a5b7-8abedca3de4e",
     "showTitle": false,
     "title": ""
    }
   },
   "source": [
    "# Execução do Notebook"
   ]
  },
  {
   "cell_type": "markdown",
   "metadata": {
    "application/vnd.databricks.v1+cell": {
     "cellMetadata": {},
     "inputWidgets": {},
     "nuid": "ccf17b99-7a9b-4a45-9dfe-bf5737f5af18",
     "showTitle": false,
     "title": ""
    }
   },
   "source": [
    "#### Instalando dependências"
   ]
  },
  {
   "cell_type": "code",
   "execution_count": 0,
   "metadata": {
    "application/vnd.databricks.v1+cell": {
     "cellMetadata": {
      "byteLimit": 2048000,
      "rowLimit": 10000
     },
     "inputWidgets": {},
     "nuid": "4901d004-eb89-49ef-9717-53981927c3a7",
     "showTitle": false,
     "title": ""
    }
   },
   "outputs": [],
   "source": [
    "%pip install openai google-api-python-client html2text"
   ]
  },
  {
   "cell_type": "code",
   "execution_count": 0,
   "metadata": {
    "application/vnd.databricks.v1+cell": {
     "cellMetadata": {
      "byteLimit": 2048000,
      "rowLimit": 10000
     },
     "inputWidgets": {},
     "nuid": "05b3f861-c3f6-47d0-b09c-079c993e6f52",
     "showTitle": false,
     "title": ""
    }
   },
   "outputs": [],
   "source": [
    "from bs4 import BeautifulSoup\n",
    "from googleapiclient.discovery import build\n",
    "from openai import OpenAI\n",
    "\n",
    "import html2text\n",
    "import requests"
   ]
  },
  {
   "cell_type": "markdown",
   "metadata": {
    "application/vnd.databricks.v1+cell": {
     "cellMetadata": {},
     "inputWidgets": {},
     "nuid": "82835342-e948-4167-bb88-583a9cb4c878",
     "showTitle": false,
     "title": ""
    }
   },
   "source": [
    "#### Definindo funções auxiliares"
   ]
  },
  {
   "cell_type": "code",
   "execution_count": 0,
   "metadata": {
    "application/vnd.databricks.v1+cell": {
     "cellMetadata": {
      "byteLimit": 2048000,
      "rowLimit": 10000
     },
     "inputWidgets": {},
     "nuid": "4dbd682e-d3b6-45ab-b9dd-f37820a78eda",
     "showTitle": false,
     "title": ""
    }
   },
   "outputs": [],
   "source": [
    "def extract_website(url):\n",
    "  response = requests.get(url)\n",
    "  html_content = response.text\n",
    "\n",
    "  soup = BeautifulSoup(html_content, \"html.parser\")\n",
    "\n",
    "  return (html2text.html2text(soup.body.prettify()))\n",
    "\n",
    "def google_search(search_term, api_key, cse_id, **kwargs):\n",
    "    service = build(\"customsearch\", \"v1\", developerKey=api_key)\n",
    "    res = service.cse().list(q=search_term, cx=cse_id, **kwargs).execute()\n",
    "    return res"
   ]
  },
  {
   "cell_type": "markdown",
   "metadata": {
    "application/vnd.databricks.v1+cell": {
     "cellMetadata": {},
     "inputWidgets": {},
     "nuid": "9abe3d39-124e-48e0-a975-d557c096c91d",
     "showTitle": false,
     "title": ""
    }
   },
   "source": [
    "#### Pré-requisitos\n",
    "\n",
    "Para utilizar esse código, você vai precisar:\n",
    "- De uma chave de API de um projeto Google\n",
    "- De um \"custom search ID\" do Google Search Console\n",
    "- De uma chave de API da OpenAI"
   ]
  },
  {
   "cell_type": "code",
   "execution_count": 0,
   "metadata": {
    "application/vnd.databricks.v1+cell": {
     "cellMetadata": {
      "byteLimit": 2048000,
      "rowLimit": 10000
     },
     "inputWidgets": {},
     "nuid": "673274f8-cce0-459d-b5a2-cf1fb1d88f4d",
     "showTitle": false,
     "title": ""
    }
   },
   "outputs": [],
   "source": [
    "api_key = dbutils.secrets.get(\"google_search\", \"api_key\")\n",
    "cse_id = dbutils.secrets.get(\"google_search\", \"cse_id\")\n",
    "open_ai_key = dbutils.secrets.get(\"openai\", \"api_key\")"
   ]
  },
  {
   "cell_type": "code",
   "execution_count": 0,
   "metadata": {
    "application/vnd.databricks.v1+cell": {
     "cellMetadata": {
      "byteLimit": 2048000,
      "rowLimit": 10000
     },
     "inputWidgets": {},
     "nuid": "6bef06c3-161c-470a-9372-0b0e5b4dea14",
     "showTitle": false,
     "title": ""
    }
   },
   "outputs": [],
   "source": [
    "dbutils.widgets.text(\"search_text\", defaultValue = \"como limpar meu nome\", label = \"Search Text\")\n",
    "\n",
    "search_text = dbutils.widgets.get(\"search_text\")\n",
    "\n",
    "print(f\"Texto utilizado para busca: `{search_text}`\")"
   ]
  },
  {
   "cell_type": "code",
   "execution_count": 0,
   "metadata": {
    "application/vnd.databricks.v1+cell": {
     "cellMetadata": {
      "byteLimit": 2048000,
      "rowLimit": 10000
     },
     "inputWidgets": {},
     "nuid": "470a594e-dcc6-48aa-9e58-6f6d1c757dc2",
     "showTitle": false,
     "title": ""
    }
   },
   "outputs": [],
   "source": [
    "results = google_search(search_text, api_key, cse_id)\n",
    "\n",
    "total_links = []\n",
    "\n",
    "for item in results['items']:\n",
    "    total_links.append(item[\"link\"])\n",
    "\n",
    "display(total_links)\n",
    "\n",
    "# total_links = [\n",
    "#   \"https://www.serasa.com.br/limpa-nome-online/blog/como-limpar-o-nome-na-serasa/\",\n",
    "#   \"https://www.acordocerto.com.br/blog/como-limpar-seu-nome/\",\n",
    "#   \"https://www.serasa.com.br/limpa-nome-online/\",\n",
    "#   \"https://meubolsoemdia.com.br/Materias/nome-sujo-como-limpar-nome\",\n",
    "#   \"https://quiteja.com.br/blog/como-limpar-nome/\",\n",
    "#   \"https://www.spcbrasil.org.br/consumidor/negociar\",\n",
    "#   \"https://ajuda.serasa.com.br/hc/pt-br/articles/360004225412-Quero-limpar-meu-nome-Por-onde-come%C3%A7o\",\n",
    "#   \"https://economia.uol.com.br/noticias/redacao/2023/01/12/como-limpar-nome-sujo.htm\",\n",
    "#   \"https://www.jusbrasil.com.br/artigos/exclusao-de-registros-de-antecedentes-criminais-como-limpar-meu-nome/1444443728\",\n",
    "#   \"https://www.creditas.com/exponencial/como-limpar-nome-sujo/\",\n",
    "# ]"
   ]
  },
  {
   "cell_type": "markdown",
   "metadata": {
    "application/vnd.databricks.v1+cell": {
     "cellMetadata": {},
     "inputWidgets": {},
     "nuid": "5cfbd121-1fd9-4ff2-8370-e9bfcd6802ee",
     "showTitle": false,
     "title": ""
    }
   },
   "source": [
    "#### Buscando o conteúdo dos sites"
   ]
  },
  {
   "cell_type": "code",
   "execution_count": 0,
   "metadata": {
    "application/vnd.databricks.v1+cell": {
     "cellMetadata": {
      "byteLimit": 2048000,
      "rowLimit": 10000
     },
     "inputWidgets": {},
     "nuid": "fc4cb931-4d87-4bf6-8742-f32ac1c3d638",
     "showTitle": false,
     "title": ""
    }
   },
   "outputs": [],
   "source": [
    "contents = []\n",
    "errs = []\n",
    "for link in total_links:\n",
    "    try:\n",
    "        contents.append(extract_website(link))\n",
    "    except Exception as e:\n",
    "        errs.append(e)\n",
    "\n",
    "print('err count:', len(errs))"
   ]
  },
  {
   "cell_type": "code",
   "execution_count": 0,
   "metadata": {
    "application/vnd.databricks.v1+cell": {
     "cellMetadata": {
      "byteLimit": 2048000,
      "rowLimit": 10000
     },
     "inputWidgets": {},
     "nuid": "b8c12d07-bcb0-4f96-b860-34e24cc3cea0",
     "showTitle": false,
     "title": ""
    }
   },
   "outputs": [],
   "source": [
    "print(contents[3][0:1000])"
   ]
  },
  {
   "cell_type": "code",
   "execution_count": 0,
   "metadata": {
    "application/vnd.databricks.v1+cell": {
     "cellMetadata": {
      "byteLimit": 2048000,
      "rowLimit": 10000
     },
     "inputWidgets": {},
     "nuid": "a706a9b1-8435-4f58-9260-861393d15953",
     "showTitle": false,
     "title": ""
    }
   },
   "outputs": [],
   "source": [
    "client = OpenAI(api_key=open_ai_key)"
   ]
  },
  {
   "cell_type": "code",
   "execution_count": 0,
   "metadata": {
    "application/vnd.databricks.v1+cell": {
     "cellMetadata": {
      "byteLimit": 2048000,
      "rowLimit": 10000
     },
     "inputWidgets": {},
     "nuid": "e714d19b-1bbb-4eab-b420-4da1d363acb2",
     "showTitle": false,
     "title": ""
    }
   },
   "outputs": [],
   "source": [
    "my_assistant = client.beta.assistants.create(\n",
    "    instructions=f\"\"\"\n",
    "    Eu vou te enviar uma lista de artigos extraídos da internet, que respondem à seguinte pergunta: \\\"{search_text}\\\"\n",
    "    Preciso que você faça o seguinte:\n",
    "    1. Produza um novo artigo, de tamanho semelhante aos artigos enviados.\n",
    "    2. Utilize apenas o conhecimento extraído dos artigos para gerar o novo texto - não produza informação nova não-verificada.\n",
    "    3. Consolide os principais pontos em comum de todos os artigos.\n",
    "    4. Escreva o artigo em uma linguagem acessível.\n",
    "    5. Otimize o artigo escrito para rankear em SEO.\n",
    "    6. Não cometa plágio - não copie diretamente conteúdo ou blocos de conteúdo da base de conhecimento. Seja transformativo na escrita.\n",
    "    Gere o conteúdo APENAS depois de receber a mensagem \"Comece a gerar o novo artigo.\"\n",
    "    \"\"\",\n",
    "    name=\"Article Writer\",\n",
    "    tools=[{\"type\": \"code_interpreter\"}],\n",
    "    model=\"gpt-3.5-turbo\",\n",
    ")"
   ]
  },
  {
   "cell_type": "code",
   "execution_count": 0,
   "metadata": {
    "application/vnd.databricks.v1+cell": {
     "cellMetadata": {
      "byteLimit": 2048000,
      "rowLimit": 10000
     },
     "inputWidgets": {},
     "nuid": "3aed147c-8e5b-473d-8e0f-01683c5e8fc2",
     "showTitle": false,
     "title": ""
    }
   },
   "outputs": [],
   "source": [
    "msg_thread = client.beta.threads.create()\n",
    "i = 0\n",
    "for content in contents:\n",
    "    i = i + 1\n",
    "    msg = f\" Texto {i}: `{content}`\"\n",
    "    thread_message = client.beta.threads.messages.create(\n",
    "        msg_thread.id,\n",
    "        role=\"user\",\n",
    "        content=msg,\n",
    "    )\n",
    "\n",
    "final_msg = client.beta.threads.messages.create(\n",
    "  msg_thread.id,\n",
    "  role=\"user\",\n",
    "  content=\"Comece a gerar o novo artigo.\"\n",
    ")"
   ]
  },
  {
   "cell_type": "code",
   "execution_count": 0,
   "metadata": {
    "application/vnd.databricks.v1+cell": {
     "cellMetadata": {
      "byteLimit": 2048000,
      "rowLimit": 10000
     },
     "inputWidgets": {},
     "nuid": "f928b57e-4673-4104-8411-a562739eaef0",
     "showTitle": false,
     "title": ""
    }
   },
   "outputs": [],
   "source": [
    "thread_run = client.beta.threads.runs.create(\n",
    "    thread_id=msg_thread.id,\n",
    "    assistant_id=my_assistant.id,\n",
    "    stream=True\n",
    ")\n",
    "texto_final = \"\"\n",
    "for chunk in thread_run:\n",
    "  try:\n",
    "    if chunk.data.delta.content is not None:\n",
    "      texto_final+= chunk.data.delta.content[0].text.value\n",
    "      print(texto_final, end=\"\")\n",
    "  except:\n",
    "    ..."
   ]
  },
  {
   "cell_type": "code",
   "execution_count": 0,
   "metadata": {
    "application/vnd.databricks.v1+cell": {
     "cellMetadata": {
      "byteLimit": 2048000,
      "rowLimit": 10000
     },
     "inputWidgets": {},
     "nuid": "fd70e22f-f9ff-4ebc-88c2-5f77e40e1e7a",
     "showTitle": false,
     "title": ""
    }
   },
   "outputs": [],
   "source": [
    "from IPython.display import display, Markdown\n",
    "display(Markdown(texto_final))"
   ]
  },
  {
   "cell_type": "markdown",
   "metadata": {
    "application/vnd.databricks.v1+cell": {
     "cellMetadata": {},
     "inputWidgets": {},
     "nuid": "770a90a4-c327-4d39-8f33-be5a0c0cbda8",
     "showTitle": false,
     "title": ""
    }
   },
   "source": [
    "#### Evoluções\n",
    "Para tornar o produto ainda melhor, enxergamos os seguintes caminhos:\n",
    "- Utilização de algum modelo de linguagem ou ferramenta externa de detecção de plágio\n",
    "  - Alguns *approaches* diferentes funcionariam aqui, como por exemplo passar o texto em algumas camadas de prompts para garantir uma maior randomização do output\n",
    "- Utilizar um modelo `fine-tuning` para treinar o modelo em um estilo de escrita\n",
    "  - Uma empresa grande que possui uma grande base de conteúdo escrito por redatores, pode acabar adotando um padrão de estilo de escrita (linguagem mais formal ou informal, mais acessível, etc.) - copiar esse estilo pode tornar a experiência de artigos de um site mais coesa e unificada\n",
    "- Bater o modelo contra um \"verificador de geração de AI\"\n",
    "  - É importante utilizar alguma estratégia para minimizar a \"chance de detecção\" do texto ser escrito por uma IA, para maximizar as chances de rankear no Google"
   ]
  }
 ],
 "metadata": {
  "application/vnd.databricks.v1+notebook": {
   "dashboards": [],
   "environmentMetadata": null,
   "language": "python",
   "notebookMetadata": {
    "pythonIndentUnit": 2
   },
   "notebookName": "Grupo 09 - Mecânicos de Busca",
   "widgets": {
    "search_text": {
     "currentValue": "como limpar meu nome",
     "nuid": "72f5a2f7-667b-4fbd-afe7-58aca3622464",
     "typedWidgetInfo": null,
     "widgetInfo": {
      "widgetType": "text",
      "defaultValue": "como limpar meu nome",
      "label": "Search Text",
      "name": "search_text",
      "options": {
       "widgetType": "text",
       "autoCreated": null,
       "validationRegex": null
      }
     }
    }
   }
  }
 },
 "nbformat": 4,
 "nbformat_minor": 0
}
